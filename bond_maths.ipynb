{
 "cells": [
  {
   "cell_type": "markdown",
   "metadata": {},
   "source": [
    "### Bond valuations"
   ]
  },
  {
   "cell_type": "markdown",
   "metadata": {},
   "source": [
    "The purpose of this page is to demonstrate bond valuation principles using Python. In this notebook we will show:\n",
    "\n",
    "* Bond pricing using DCF\n",
    "* Calculation of YTM\n",
    "\n",
    "For the examples, we'll use a hypothetical 10 year Corporate bond which has a face of 100 and coupon 5. "
   ]
  },
  {
   "cell_type": "code",
   "execution_count": 1,
   "metadata": {
    "collapsed": true
   },
   "outputs": [],
   "source": [
    "from __future__ import division"
   ]
  },
  {
   "cell_type": "code",
   "execution_count": 2,
   "metadata": {
    "collapsed": true
   },
   "outputs": [],
   "source": [
    "face = 100\n",
    "coupon = 5\n",
    "rate = 0.05\n",
    "periods = 5"
   ]
  },
  {
   "cell_type": "code",
   "execution_count": 3,
   "metadata": {
    "collapsed": true
   },
   "outputs": [],
   "source": [
    "def pv(face, coupon, periods, rate, back_in = False):\n",
    "    total_pv = 0\n",
    "    discounted_cfs = []\n",
    "    for n in range(1, periods+1):\n",
    "        discounted_cfs.append((coupon / ((1 + rate)**n)))\n",
    "    sum_coupons = sum(discounted_cfs)\n",
    "    final_payment = (face / ((1 + rate)**n))    \n",
    "    total_pv = sum_coupons + final_payment\n",
    "    \n",
    "    if back_in == True:\n",
    "        print \"Bond price breakdown \\n-------------------\"\n",
    "        print \"Discount rate: {}\".format(rate)\n",
    "        print \"Periods: {}\".format(periods)\n",
    "        print \"Coupon: {}\\n\".format(coupon)\n",
    "        for period, i in enumerate(discounted_cfs, start=1):\n",
    "            print \"Discounted CF for Coupon in Year {} is {}\".format(str(period), i)\n",
    "        print \"Discounted Principal is {}\\n\".format(final_payment)\n",
    "        print \"Bond price is: {}\".format(total_pv)\n",
    "        \n",
    "    return total_pv"
   ]
  },
  {
   "cell_type": "code",
   "execution_count": 4,
   "metadata": {},
   "outputs": [
    {
     "name": "stdout",
     "output_type": "stream",
     "text": [
      "Bond price breakdown \n",
      "-------------------\n",
      "Discount rate: 0.05\n",
      "Periods: 5\n",
      "Coupon: 5\n",
      "\n",
      "Discounted CF for Coupon in Year 1 is 4.7619047619\n",
      "Discounted CF for Coupon in Year 2 is 4.53514739229\n",
      "Discounted CF for Coupon in Year 3 is 4.31918799266\n",
      "Discounted CF for Coupon in Year 4 is 4.11351237396\n",
      "Discounted CF for Coupon in Year 5 is 3.91763083234\n",
      "Discounted Principal is 78.3526166468\n",
      "\n",
      "Bond price is: 100.0\n",
      "100.0\n"
     ]
    }
   ],
   "source": [
    "print pv(face, coupon, periods, rate, back_in=True)"
   ]
  },
  {
   "cell_type": "code",
   "execution_count": 5,
   "metadata": {},
   "outputs": [
    {
     "name": "stdout",
     "output_type": "stream",
     "text": [
      "88.0218698888\n"
     ]
    }
   ],
   "source": [
    "print pv(face, coupon, periods, 0.08, back_in=False)"
   ]
  },
  {
   "cell_type": "code",
   "execution_count": 6,
   "metadata": {
    "collapsed": true
   },
   "outputs": [],
   "source": [
    "price = pv(face, coupon, periods, rate)\n",
    "\n",
    "def ytm(face, coupon, periods, price, back_in = False):\n",
    "    ytm_val = coupon\n",
    "    condition = True\n",
    "    while condition:\n",
    "        if price < face:\n",
    "            ytm_val += 0.0001\n",
    "        else:\n",
    "            ytm_val -= 0.0001\n",
    "\n",
    "        total_pv =  pv(face, coupon, periods, ytm_val)\n",
    "    \n",
    "        if total_pv > price:\n",
    "            condition = True\n",
    "        else:\n",
    "            condition = False\n",
    "    \n",
    "        if back_in == True:\n",
    "            print \"A price of {} generates a YTM of {}\".format(total_pv, ytm)\n",
    "    \n",
    "    return ytm_val\n",
    "    "
   ]
  },
  {
   "cell_type": "code",
   "execution_count": 7,
   "metadata": {},
   "outputs": [
    {
     "data": {
      "text/plain": [
       "5.0001"
      ]
     },
     "execution_count": 7,
     "metadata": {},
     "output_type": "execute_result"
    }
   ],
   "source": [
    "ytm(face, coupon, periods, price, back_in = False)"
   ]
  },
  {
   "cell_type": "code",
   "execution_count": 8,
   "metadata": {
    "collapsed": true
   },
   "outputs": [],
   "source": [
    "def ytm_approx(face, coupon, price, periods):\n",
    "    return ((coupon +((face - price)/ periods ))/ ((face + price) /2))"
   ]
  },
  {
   "cell_type": "code",
   "execution_count": 9,
   "metadata": {},
   "outputs": [
    {
     "data": {
      "text/plain": [
       "0.050000000000000024"
      ]
     },
     "execution_count": 9,
     "metadata": {},
     "output_type": "execute_result"
    }
   ],
   "source": [
    "ytm_approx(face, coupon, price, periods)"
   ]
  },
  {
   "cell_type": "markdown",
   "metadata": {
    "collapsed": true
   },
   "source": [
    "### Macaulay Duration\n",
    "\n",
    "The Macaulay duration is calculed by multiplying the PV of each Cash Flow by the time it is recieved and diving by the price of the bond. "
   ]
  },
  {
   "cell_type": "code",
   "execution_count": 10,
   "metadata": {
    "collapsed": true
   },
   "outputs": [],
   "source": [
    "face = 1000\n",
    "coupon = 50\n",
    "rate = 0.05\n",
    "periods = 5"
   ]
  },
  {
   "cell_type": "code",
   "execution_count": 11,
   "metadata": {},
   "outputs": [],
   "source": [
    "def mc_dur(face, coupon, periods, rate, back_in = False):\n",
    "    \n",
    "    price = pv(face, coupon, periods, rate)\n",
    "    \n",
    "    weighted_dcfs = []\n",
    "    for n in range(1, periods+1):\n",
    "        cf = ((coupon * n) / ((1 + rate)**n))\n",
    "        weighted_dcfs.append(cf)\n",
    "    \n",
    "    weighted_principal = ((face * periods) / ((1 + rate)**periods))\n",
    "    \n",
    "    result = (sum(weighted_dcfs) + weighted_principal)/price\n",
    "    \n",
    "    if back_in == True:\n",
    "        print 'Macaualy Duration Calculation\\n------------------------------\\n'\n",
    "        for n, i in enumerate(weighted_dcfs, start = 1):\n",
    "            print 'Weighted CF for Period {} is: {}\\n'.format(n, round(i))\n",
    "        print 'Weighted CF for Principal is: {}\\n'.format(int(weighted_principal))\n",
    "        print 'Total weighted CF is: {}'.format(int((sum(weighted_dcfs) + weighted_principal)))\n",
    "        print 'Bond price is: {}'.format(price)\n",
    "        print 'Macaualy Duration is {}'.format(mc_dur)\n",
    "    \n",
    "    return result\n",
    "    "
   ]
  },
  {
   "cell_type": "code",
   "execution_count": 24,
   "metadata": {},
   "outputs": [
    {
     "name": "stdout",
     "output_type": "stream",
     "text": [
      "Macaualy Duration Calculation\n",
      "------------------------------\n",
      "\n",
      "Weighted CF for Period 1 is: 48.0\n",
      "\n",
      "Weighted CF for Period 2 is: 91.0\n",
      "\n",
      "Weighted CF for Period 3 is: 130.0\n",
      "\n",
      "Weighted CF for Period 4 is: 165.0\n",
      "\n",
      "Weighted CF for Period 5 is: 196.0\n",
      "\n",
      "Weighted CF for Principal is: 3917\n",
      "\n",
      "Total weighted CF is: 4545\n",
      "Bond price is: 1000.0\n",
      "Macaualy Duration is <function mc_dur at 0x103ca8758>\n"
     ]
    },
    {
     "data": {
      "text/plain": [
       "4.54595050416236"
      ]
     },
     "execution_count": 24,
     "metadata": {},
     "output_type": "execute_result"
    }
   ],
   "source": [
    "mc_dur(face, coupon, periods, rate, back_in=True)"
   ]
  },
  {
   "cell_type": "code",
   "execution_count": 31,
   "metadata": {},
   "outputs": [],
   "source": [
    "# Modified duration = Macaulay Duration / (1 + YTM / number_of_coupons_per_year)\n",
    "\n",
    "def modified_dur(coupons_per_year, face, coupon, periods, rate):\n",
    "    \n",
    "    mac = mc_dur(face, coupon, periods, rate)\n",
    "    y = ytm(face, coupon, periods, price)\n",
    "    \n",
    "    mod_dur = mac / (1 + (y / coupons_per_year))\n",
    "    \n",
    "    return mod_dur"
   ]
  },
  {
   "cell_type": "code",
   "execution_count": 32,
   "metadata": {},
   "outputs": [],
   "source": [
    "coupons_per_year = 1"
   ]
  },
  {
   "cell_type": "code",
   "execution_count": 33,
   "metadata": {},
   "outputs": [
    {
     "data": {
      "text/plain": [
       "0.08913610961865487"
      ]
     },
     "execution_count": 33,
     "metadata": {},
     "output_type": "execute_result"
    }
   ],
   "source": [
    "modified_dur(coupons_per_year, face, coupon, periods, rate)"
   ]
  },
  {
   "cell_type": "code",
   "execution_count": null,
   "metadata": {
    "collapsed": true
   },
   "outputs": [],
   "source": []
  }
 ],
 "metadata": {
  "anaconda-cloud": {},
  "kernelspec": {
   "display_name": "Python 2",
   "language": "python",
   "name": "python2"
  },
  "language_info": {
   "codemirror_mode": {
    "name": "ipython",
    "version": 2
   },
   "file_extension": ".py",
   "mimetype": "text/x-python",
   "name": "python",
   "nbconvert_exporter": "python",
   "pygments_lexer": "ipython2",
   "version": "2.7.14"
  }
 },
 "nbformat": 4,
 "nbformat_minor": 2
}
