{
 "cells": [
  {
   "cell_type": "markdown",
   "metadata": {},
   "source": [
    "## SVP100 - Runners Analysis"
   ]
  },
  {
   "cell_type": "markdown",
   "metadata": {},
   "source": [
    "In August of 2017 I ran my first 100KM off-road trail running race, finishing in 12 hours and 1 minute. I want to use this notebook to see how my performance changed as the race progressed. How does my pace compare to other runners throughout the race?\n",
    "\n",
    "This notebook will use the following packages:\n",
    "\n",
    "* BeautifulSoup: Scraping the data from race result webpage\n",
    "* Pandas: Organising and analysing the data\n",
    "* Matplotlib and seaborn: Displaying the data\n",
    "* Other supporting packages\n"
   ]
  },
  {
   "cell_type": "markdown",
   "metadata": {},
   "source": [
    "### Import packages and set plot configurations"
   ]
  },
  {
   "cell_type": "code",
   "execution_count": 60,
   "metadata": {
    "collapsed": false
   },
   "outputs": [],
   "source": [
    "# Import the packages we'll use for our analysis\n",
    "\n",
    "import pandas as pd\n",
    "import datetime\n",
    "import requests\n",
    "import seaborn as sns\n",
    "from bs4 import BeautifulSoup\n",
    "import matplotlib.pyplot as plt"
   ]
  },
  {
   "cell_type": "code",
   "execution_count": null,
   "metadata": {
    "collapsed": true
   },
   "outputs": [],
   "source": [
    "# Use line magic function to enable matplotlib to work interactively with iPython\n",
    "\n",
    "%matplotlib inline\n",
    "%pylab inline\n",
    "\n",
    "# Set style to fivethirtyeight to create clean and clear looking graphs\n",
    "\n",
    "style.use('fivethirtyeight')\n",
    "\n",
    "# Define a dictionary containing default plotting configurations\n",
    "\n",
    "params = {'legend.fontsize': 'small',\n",
    "          'figure.figsize': (9, 3),\n",
    "         'axes.labelsize': 'small',\n",
    "         'axes.titlesize':'medium',\n",
    "         'xtick.labelsize':'small',\n",
    "         'ytick.labelsize':'small'}\n",
    "\n",
    "pylab.rcParams.update(params)"
   ]
  },
  {
   "cell_type": "markdown",
   "metadata": {},
   "source": [
    "### Create class for scraping and organising data"
   ]
  },
  {
   "cell_type": "code",
   "execution_count": 62,
   "metadata": {
    "collapsed": true
   },
   "outputs": [],
   "source": [
    "# Define a class Results for creating Pandas dataframe objects of scrapped data from race results website \n",
    "\n",
    "class Results():\n",
    "    \"\"\"\n",
    "    PLACEHOLDER: Add some details\n",
    "    \"\"\"\n",
    "    \n",
    "    def __init__(self, year=2017):\n",
    "        self.year = year\n",
    "        \n",
    "    def scrape_to_df(self):\n",
    "        url = r'http://www.svp100.co.uk/results-{}'.format(self.year)\n",
    "        r = requests.get(url).text\n",
    "        soup = BeautifulSoup(r, 'lxml')\n",
    "        \n",
    "        columns = [\"pos\", \"name\", \"bib\", \"gender\", \"start\", \"club\", \n",
    "           \"cp1\", \"cp2\", \"cp3\", \"cp4\", \"cp5\", \"cp6\", \"finish\", \"total\"] \n",
    "        \n",
    "        list_columns = []\n",
    "        for i in columns: \n",
    "            globals()[i] = []\n",
    "            list_columns.append(globals()[i])\n",
    "        \n",
    "        rows = soup.find_all('tr')[1:]\n",
    "        \n",
    "        for row in rows:\n",
    "            col = row.find_all('td')\n",
    "            for (counter, value), column in zip(enumerate(col), list_columns):\n",
    "                if not col[counter].string == None:\n",
    "                    column.append(col[counter].string.strip())\n",
    "                else: column.append(\"\")\n",
    "        \n",
    "        df = pd.DataFrame({'pos':pos,'name': name,'bib': bib,\n",
    "                  'gender': gender,'start': start,'club': club,'CP1': cp1,'CP2': cp2,'CP3': cp3,'CP4': cp4,\n",
    "                  'CP5': cp5,'CP6': cp6,'finish': finish,'total': total}, index = name)\n",
    "                \n",
    "        return df\n",
    "    \n",
    "    def format_df(self):\n",
    "        df = self.scrape_to_df()\n",
    "        df[\"total\"] = [i.encode(\"utf-8\") for i in df[\"total\"]]\n",
    "        \n",
    "        def str_to_min(x):\n",
    "            if not x == '':\n",
    "                hr_s = float((''.join(x[0]+x[1])))*(60*60)\n",
    "                min_s = float(''.join(x[3]+x[4]))*60\n",
    "                sec_s = float(''.join(x[6]+x[7]))\n",
    "                total_min = ((hr_s + min_s + sec_s)/ 60)\n",
    "                return round(total_min, 2)\n",
    "        \n",
    "        df['total_min'] = df['total'].map(str_to_min)\n",
    "        df[\"average_min\"] = round(df[\"total_min\"].mean(), 2)\n",
    "        df[\"start\"] = datetime.datetime(2017, 8, 12, 7, 0 ,0)\n",
    "        \n",
    "        def cp2dt(cp):\n",
    "            df[cp] = pd.to_datetime(df[cp], format = \"%H:%M:%S\", errors=\"coerce\")\n",
    "            df[cp] = df[cp].apply(lambda dt: dt.replace(year = 2017, month = 8, day=12))\n",
    "            return df[cp]\n",
    "        \n",
    "        cps = [\"CP1\",\"CP2\",\"CP3\",\"CP4\",\"CP5\",\"CP6\",\"finish\"]\n",
    "        for i in cps: df[i] = cp2dt(i)\n",
    "        \n",
    "        df[\"time2cp1\"] = df[\"CP1\"] - df[\"start\"]\n",
    "        df[\"time2cp2\"] = df[\"CP2\"] - df[\"CP1\"] \n",
    "        df[\"time2cp3\"] = df[\"CP3\"] - df[\"CP2\"] \n",
    "        df[\"time2cp4\"] = df[\"CP4\"] - df[\"CP3\"] \n",
    "        df[\"time2cp5\"] = df[\"CP5\"] - df[\"CP4\"]\n",
    "        df[\"time2cp6\"] = df[\"CP6\"] - df[\"CP5\"]\n",
    "        df[\"time2end\"] = df[\"finish\"] - df[\"CP6\"]\n",
    "        \n",
    "        return df\n",
    "    \n",
    "    def top_runners(self, x = 10):\n",
    "        \n",
    "        df = self.format_df()[:x]\n",
    "        return df\n",
    "    \n",
    "    def target_runners(self, x = \"Stephen Lemasney\"):\n",
    "        \n",
    "        df = self.format_df().loc[\"Stephen Lemasney\"]\n",
    "        df = pd.DataFrame(df)\n",
    "        \n",
    "        return df"
   ]
  },
  {
   "cell_type": "code",
   "execution_count": 36,
   "metadata": {
    "collapsed": true
   },
   "outputs": [],
   "source": [
    "# Next define a standalone function for creating averages from the Results() objects\n",
    "\n",
    "def average_pace(df):\n",
    "\n",
    "    df = pd.DataFrame(df)\n",
    "\n",
    "    convert_km = 1.60934\n",
    "    cp = [\"time2cp1\", \"time2cp2\", \"time2cp3\", \"time2cp4\", \"time2cp5\", \"time2cp6\", \"time2end\"]\n",
    "    cp_miles = [12, 23, 33, 44, 50, 58.5, 63]\n",
    "    cp_miles_s = [12,11,10,11,6,8.5,4.5]\n",
    "    cp_distances = pd.DataFrame({\"cp_miles\": cp_miles, \"cp_miles_s\": cp_miles_s}, index = cp)\n",
    "    cp_distances[\"cp_km\"] = cp_distances[\"cp_miles\"] * convert_km\n",
    "    cp_distances[\"cp_km_s\"] = cp_distances[\"cp_miles_s\"] * convert_km\n",
    "\n",
    "    df_time2cp = pd.DataFrame(df, columns= cp)\n",
    "    df_averages = {}\n",
    "    for i in cp: df_averages[str(i)] = df_time2cp[str(i)].mean()\n",
    "\n",
    "    df_averages = pd.Series(df_averages, name = \"2017\")\n",
    "    df_averages = pd.DataFrame(df_averages)\n",
    "    df_averages = (df_averages.join(cp_distances))\n",
    "    df_averages[\"2017_min\"] = [(i.total_seconds()/60) for i in df_averages[\"2017\"]]\n",
    "    df_averages[\"min_km\"] = df_averages[\"2017_min\"]/df_averages[\"cp_km_s\"]\n",
    "\n",
    "    return df_averages\n"
   ]
  },
  {
   "cell_type": "markdown",
   "metadata": {},
   "source": [
    "### Initialize a Results() object with results from 2017 race"
   ]
  },
  {
   "cell_type": "code",
   "execution_count": 37,
   "metadata": {
    "collapsed": false
   },
   "outputs": [
    {
     "data": {
      "text/html": [
       "<div>\n",
       "<style scoped>\n",
       "    .dataframe tbody tr th:only-of-type {\n",
       "        vertical-align: middle;\n",
       "    }\n",
       "\n",
       "    .dataframe tbody tr th {\n",
       "        vertical-align: top;\n",
       "    }\n",
       "\n",
       "    .dataframe thead th {\n",
       "        text-align: right;\n",
       "    }\n",
       "</style>\n",
       "<table border=\"1\" class=\"dataframe\">\n",
       "  <thead>\n",
       "    <tr style=\"text-align: right;\">\n",
       "      <th></th>\n",
       "      <th>2017</th>\n",
       "      <th>cp_miles</th>\n",
       "      <th>cp_miles_s</th>\n",
       "      <th>cp_km</th>\n",
       "      <th>cp_km_s</th>\n",
       "      <th>2017_min</th>\n",
       "      <th>min_km</th>\n",
       "    </tr>\n",
       "  </thead>\n",
       "  <tbody>\n",
       "    <tr>\n",
       "      <th>time2cp1</th>\n",
       "      <td>02:25:35.206521</td>\n",
       "      <td>12.0</td>\n",
       "      <td>12.0</td>\n",
       "      <td>19.31208</td>\n",
       "      <td>19.31208</td>\n",
       "      <td>145.586775</td>\n",
       "      <td>7.538638</td>\n",
       "    </tr>\n",
       "    <tr>\n",
       "      <th>time2cp2</th>\n",
       "      <td>02:13:09.678160</td>\n",
       "      <td>23.0</td>\n",
       "      <td>11.0</td>\n",
       "      <td>37.01482</td>\n",
       "      <td>17.70274</td>\n",
       "      <td>133.161303</td>\n",
       "      <td>7.522073</td>\n",
       "    </tr>\n",
       "    <tr>\n",
       "      <th>time2cp3</th>\n",
       "      <td>02:10:43.860759</td>\n",
       "      <td>33.0</td>\n",
       "      <td>10.0</td>\n",
       "      <td>53.10822</td>\n",
       "      <td>16.09340</td>\n",
       "      <td>130.731013</td>\n",
       "      <td>8.123269</td>\n",
       "    </tr>\n",
       "    <tr>\n",
       "      <th>time2cp4</th>\n",
       "      <td>02:31:55.068493</td>\n",
       "      <td>44.0</td>\n",
       "      <td>11.0</td>\n",
       "      <td>70.81096</td>\n",
       "      <td>17.70274</td>\n",
       "      <td>151.917808</td>\n",
       "      <td>8.581599</td>\n",
       "    </tr>\n",
       "    <tr>\n",
       "      <th>time2cp5</th>\n",
       "      <td>01:34:58.985915</td>\n",
       "      <td>50.0</td>\n",
       "      <td>6.0</td>\n",
       "      <td>80.46700</td>\n",
       "      <td>9.65604</td>\n",
       "      <td>94.983099</td>\n",
       "      <td>9.836651</td>\n",
       "    </tr>\n",
       "    <tr>\n",
       "      <th>time2cp6</th>\n",
       "      <td>02:08:30.880597</td>\n",
       "      <td>58.5</td>\n",
       "      <td>8.5</td>\n",
       "      <td>94.14639</td>\n",
       "      <td>13.67939</td>\n",
       "      <td>128.514677</td>\n",
       "      <td>9.394767</td>\n",
       "    </tr>\n",
       "    <tr>\n",
       "      <th>time2end</th>\n",
       "      <td>01:12:04.522388</td>\n",
       "      <td>63.0</td>\n",
       "      <td>4.5</td>\n",
       "      <td>101.38842</td>\n",
       "      <td>7.24203</td>\n",
       "      <td>72.075373</td>\n",
       "      <td>9.952372</td>\n",
       "    </tr>\n",
       "  </tbody>\n",
       "</table>\n",
       "</div>"
      ],
      "text/plain": [
       "                    2017  cp_miles  cp_miles_s      cp_km   cp_km_s  \\\n",
       "time2cp1 02:25:35.206521      12.0        12.0   19.31208  19.31208   \n",
       "time2cp2 02:13:09.678160      23.0        11.0   37.01482  17.70274   \n",
       "time2cp3 02:10:43.860759      33.0        10.0   53.10822  16.09340   \n",
       "time2cp4 02:31:55.068493      44.0        11.0   70.81096  17.70274   \n",
       "time2cp5 01:34:58.985915      50.0         6.0   80.46700   9.65604   \n",
       "time2cp6 02:08:30.880597      58.5         8.5   94.14639  13.67939   \n",
       "time2end 01:12:04.522388      63.0         4.5  101.38842   7.24203   \n",
       "\n",
       "            2017_min    min_km  \n",
       "time2cp1  145.586775  7.538638  \n",
       "time2cp2  133.161303  7.522073  \n",
       "time2cp3  130.731013  8.123269  \n",
       "time2cp4  151.917808  8.581599  \n",
       "time2cp5   94.983099  9.836651  \n",
       "time2cp6  128.514677  9.394767  \n",
       "time2end   72.075373  9.952372  "
      ]
     },
     "execution_count": 37,
     "metadata": {},
     "output_type": "execute_result"
    }
   ],
   "source": [
    "results = Results(year = 2017)\n",
    "all_runners = results.format_df()\n",
    "all_runners = average_pace(all_runners)\n",
    "all_runners"
   ]
  },
  {
   "cell_type": "code",
   "execution_count": 38,
   "metadata": {
    "collapsed": false
   },
   "outputs": [
    {
     "data": {
      "text/html": [
       "<div>\n",
       "<style scoped>\n",
       "    .dataframe tbody tr th:only-of-type {\n",
       "        vertical-align: middle;\n",
       "    }\n",
       "\n",
       "    .dataframe tbody tr th {\n",
       "        vertical-align: top;\n",
       "    }\n",
       "\n",
       "    .dataframe thead th {\n",
       "        text-align: right;\n",
       "    }\n",
       "</style>\n",
       "<table border=\"1\" class=\"dataframe\">\n",
       "  <thead>\n",
       "    <tr style=\"text-align: right;\">\n",
       "      <th></th>\n",
       "      <th>2017</th>\n",
       "      <th>cp_miles</th>\n",
       "      <th>cp_miles_s</th>\n",
       "      <th>cp_km</th>\n",
       "      <th>cp_km_s</th>\n",
       "      <th>2017_min</th>\n",
       "      <th>min_km</th>\n",
       "    </tr>\n",
       "  </thead>\n",
       "  <tbody>\n",
       "    <tr>\n",
       "      <th>time2cp1</th>\n",
       "      <td>02:37:37.800000</td>\n",
       "      <td>12.0</td>\n",
       "      <td>12.0</td>\n",
       "      <td>19.31208</td>\n",
       "      <td>19.31208</td>\n",
       "      <td>157.630000</td>\n",
       "      <td>8.162249</td>\n",
       "    </tr>\n",
       "    <tr>\n",
       "      <th>time2cp2</th>\n",
       "      <td>01:46:52.800000</td>\n",
       "      <td>23.0</td>\n",
       "      <td>11.0</td>\n",
       "      <td>37.01482</td>\n",
       "      <td>17.70274</td>\n",
       "      <td>106.880000</td>\n",
       "      <td>6.037483</td>\n",
       "    </tr>\n",
       "    <tr>\n",
       "      <th>time2cp3</th>\n",
       "      <td>01:48:17.400000</td>\n",
       "      <td>33.0</td>\n",
       "      <td>10.0</td>\n",
       "      <td>53.10822</td>\n",
       "      <td>16.09340</td>\n",
       "      <td>108.290000</td>\n",
       "      <td>6.728845</td>\n",
       "    </tr>\n",
       "    <tr>\n",
       "      <th>time2cp4</th>\n",
       "      <td>02:01:48</td>\n",
       "      <td>44.0</td>\n",
       "      <td>11.0</td>\n",
       "      <td>70.81096</td>\n",
       "      <td>17.70274</td>\n",
       "      <td>121.800000</td>\n",
       "      <td>6.880291</td>\n",
       "    </tr>\n",
       "    <tr>\n",
       "      <th>time2cp5</th>\n",
       "      <td>01:23:00</td>\n",
       "      <td>50.0</td>\n",
       "      <td>6.0</td>\n",
       "      <td>80.46700</td>\n",
       "      <td>9.65604</td>\n",
       "      <td>83.000000</td>\n",
       "      <td>8.595656</td>\n",
       "    </tr>\n",
       "    <tr>\n",
       "      <th>time2cp6</th>\n",
       "      <td>01:45:14.400000</td>\n",
       "      <td>58.5</td>\n",
       "      <td>8.5</td>\n",
       "      <td>94.14639</td>\n",
       "      <td>13.67939</td>\n",
       "      <td>105.240000</td>\n",
       "      <td>7.693326</td>\n",
       "    </tr>\n",
       "    <tr>\n",
       "      <th>time2end</th>\n",
       "      <td>00:57:16.100000</td>\n",
       "      <td>63.0</td>\n",
       "      <td>4.5</td>\n",
       "      <td>101.38842</td>\n",
       "      <td>7.24203</td>\n",
       "      <td>57.268333</td>\n",
       "      <td>7.907774</td>\n",
       "    </tr>\n",
       "  </tbody>\n",
       "</table>\n",
       "</div>"
      ],
      "text/plain": [
       "                    2017  cp_miles  cp_miles_s      cp_km   cp_km_s  \\\n",
       "time2cp1 02:37:37.800000      12.0        12.0   19.31208  19.31208   \n",
       "time2cp2 01:46:52.800000      23.0        11.0   37.01482  17.70274   \n",
       "time2cp3 01:48:17.400000      33.0        10.0   53.10822  16.09340   \n",
       "time2cp4        02:01:48      44.0        11.0   70.81096  17.70274   \n",
       "time2cp5        01:23:00      50.0         6.0   80.46700   9.65604   \n",
       "time2cp6 01:45:14.400000      58.5         8.5   94.14639  13.67939   \n",
       "time2end 00:57:16.100000      63.0         4.5  101.38842   7.24203   \n",
       "\n",
       "            2017_min    min_km  \n",
       "time2cp1  157.630000  8.162249  \n",
       "time2cp2  106.880000  6.037483  \n",
       "time2cp3  108.290000  6.728845  \n",
       "time2cp4  121.800000  6.880291  \n",
       "time2cp5   83.000000  8.595656  \n",
       "time2cp6  105.240000  7.693326  \n",
       "time2end   57.268333  7.907774  "
      ]
     },
     "execution_count": 38,
     "metadata": {},
     "output_type": "execute_result"
    }
   ],
   "source": [
    "top_3 = results.top_runners(10)\n",
    "top_3 = average_pace(top_3)\n",
    "top_3"
   ]
  },
  {
   "cell_type": "code",
   "execution_count": 64,
   "metadata": {
    "collapsed": false
   },
   "outputs": [],
   "source": [
    "me = results.target_runners()"
   ]
  },
  {
   "cell_type": "code",
   "execution_count": 63,
   "metadata": {
    "collapsed": false
   },
   "outputs": [],
   "source": [
    "plots = all_runners.join(top_3, lsuffix = \"_all\", rsuffix  = \"_t3\")\n",
    "plots = plots.join(me, rsuffix=\"_me\" )\n",
    "plots[\"2017_me\"] = [(i.total_seconds()/60) for i in plots[\"Stephen Lemasney\"]]\n",
    "plots[\"min_km_me\"] = plots[\"2017_me\"]/plots[\"cp_km_s_all\"]\n",
    "plots = plots.rename(columns = {\"min_km_all\":\"All Runners\",\"min_km_t3\":\"Top 10\",\"min_km_me\":\"Me\"})"
   ]
  },
  {
   "cell_type": "markdown",
   "metadata": {},
   "source": [
    "### Plot the results using \"FiveThirtyEight\" styling"
   ]
  },
  {
   "cell_type": "code",
   "execution_count": 59,
   "metadata": {
    "collapsed": false
   },
   "outputs": [
    {
     "data": {
      "text/plain": [
       "<matplotlib.text.Text at 0x14026c30>"
      ]
     },
     "execution_count": 59,
     "metadata": {},
     "output_type": "execute_result"
    },
    {
     "data": {
      "image/png": "[encoded data removed]",
      "text/plain": [
       "<matplotlib.figure.Figure at 0x108b33d0>"
      ]
     },
     "metadata": {},
     "output_type": "display_data"
    }
   ],
   "source": [
    "\n",
    "plots.plot(y = [\"All Runners\",\"Top 10\",\"Me\"], x = [\"cp_km_all\"], figsize=(7,4))\n",
    "plt.title('Average pace of runners (minutes per km)')\n",
    "plt.ylabel('Minutes per km', fontsize=\"small\")\n",
    "plt.xlabel('Kilometers')"
   ]
  }
 ],
 "metadata": {
  "anaconda-cloud": {},
  "kernelspec": {
   "display_name": "Python [Anaconda2]",
   "language": "python",
   "name": "Python [Anaconda2]"
  },
  "language_info": {
   "codemirror_mode": {
    "name": "ipython",
    "version": 2
   },
   "file_extension": ".py",
   "mimetype": "text/x-python",
   "name": "python",
   "nbconvert_exporter": "python",
   "pygments_lexer": "ipython2",
   "version": "2.7.14"
  }
 },
 "nbformat": 4,
 "nbformat_minor": 2
}
