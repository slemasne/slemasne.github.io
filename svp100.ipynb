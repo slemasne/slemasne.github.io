{
 "cells": [
  {
   "cell_type": "markdown",
   "metadata": {},
   "source": [
    "## SVP100 - Runners Analysis"
   ]
  },
  {
   "cell_type": "markdown",
   "metadata": {},
   "source": [
    "In August of 2017 I ran my first 100KM off-road trail running race, finishing in 12 hours and 1 minute. I want to use this notebook to see how my performance changed as the race progressed. Does the data tell me anything I can use to get a quicker time in the 2018 race?\n",
    "\n",
    "This notebook will use the following packages:\n",
    "\n",
    "* BeautifulSoup: Scraping the data from race result webpage\n",
    "* Pandas: Organising and analysing the data\n",
    "* Matplotlib: Displaying the data\n"
   ]
  },
  {
   "cell_type": "code",
   "execution_count": 1,
   "metadata": {
    "collapsed": false
   },
   "outputs": [
    {
     "name": "stdout",
     "output_type": "stream",
     "text": [
      "Populating the interactive namespace from numpy and matplotlib\n"
     ]
    }
   ],
   "source": [
    "# Import the packages we'll use for our analysis\n",
    "\n",
    "import pandas as pd\n",
    "import datetime\n",
    "import requests\n",
    "import seaborn as sns\n",
    "from bs4 import BeautifulSoup\n",
    "import matplotlib.pyplot as plt\n",
    "\n",
    "# Use line magic function to enable matplotlib to work interactively with iPython\n",
    "\n",
    "%matplotlib inline\n",
    "%pylab inline\n",
    "\n",
    "#Set style\n",
    "plt.style.use(\"seaborn-whitegrid\")\n",
    "pylab.rcParams[\"figure.figsize\"] = (8,6)"
   ]
  },
  {
   "cell_type": "markdown",
   "metadata": {},
   "source": [
    "### Scrap data and load into pandas DataFrame"
   ]
  },
  {
   "cell_type": "code",
   "execution_count": 2,
   "metadata": {
    "collapsed": false
   },
   "outputs": [
    {
     "name": "stdout",
     "output_type": "stream",
     "text": [
      "http://www.svp100.co.uk/results-2017/\n"
     ]
    }
   ],
   "source": [
    "# Define variable for the URL we wish to load \n",
    "# Use the \"r\" prefix to interpret the raw string i.e. ignore any escape characters\n",
    "# Print the URL to ensure it looks as expected\n",
    "\n",
    "url = r'http://www.svp100.co.uk/results-2017/'\n",
    "print url"
   ]
  },
  {
   "cell_type": "code",
   "execution_count": 3,
   "metadata": {
    "collapsed": false
   },
   "outputs": [],
   "source": [
    "# Create a new object with the URL's webserver response to a HTTP request\n",
    "# Define a new variable r_text which is the text attribute of the request object which has been initialized\n",
    "# The text attribute r_text returns the server response in unicode\n",
    "# Creat a BS object using r_text as an imput \n",
    "\n",
    "r = requests.get(url)\n",
    "r_text = r.text\n",
    "soup = BeautifulSoup(r_text, 'lxml')"
   ]
  },
  {
   "cell_type": "code",
   "execution_count": 4,
   "metadata": {
    "collapsed": false
   },
   "outputs": [],
   "source": [
    "# Define an empty list for each of the variables we want to extract from the webpage\n",
    "# These will later be used to create a Pandas dataframe\n",
    "\n",
    "pos, name, bib, gender, start, club = [],[],[],[],[],[]\n",
    "cp1, cp2, cp3, cp4, cp5, cp6 = [],[],[],[],[],[]\n",
    "finish, total = [],[]"
   ]
  },
  {
   "cell_type": "code",
   "execution_count": 5,
   "metadata": {
    "collapsed": false
   },
   "outputs": [],
   "source": [
    "for row in soup.find_all('tr')[1:]:\n",
    "    # Create a variable of all the <td> tag pairs in each <tr> tag pair,\n",
    "    col = row.find_all('td')\n",
    "\n",
    "    # Create a variable of the string inside 1st <td> tag pair,\n",
    "    column_0 = col[0].string.strip()\n",
    "    column_1 = col[1].string.strip()\n",
    "    column_2 = col[2].string.strip()\n",
    "    column_3 = col[3].string.strip()\n",
    "    column_4 = col[4].string.strip()\n",
    "    \n",
    "    if not col[5].string == None:column_5 = col[5].string.strip() \n",
    "    else:column_5 = ''\n",
    "    \n",
    "    column_6 = col[6].string.strip()\n",
    "    column_7 = col[7].string.strip()\n",
    "    \n",
    "    if not col[8].string == None:column_8 = col[8].string.strip() \n",
    "    else:column_8 = ''\n",
    "    \n",
    "    if not col[9].string == None:column_9 = col[9].string.strip() \n",
    "    else:column_9 = ''\n",
    "    \n",
    "    if not col[10].string == None:column_10 = col[10].string.strip() \n",
    "    else:column_10 = ''\n",
    "    \n",
    "    if not col[11].string == None:column_11 = col[11].string.strip() \n",
    "    else:column_11 = ''\n",
    "  \n",
    "    if not col[12].string == None:column_12 = col[12].string.strip() \n",
    "    else:column_12 = ''\n",
    "    \n",
    "    if not col[13].string == None:column_13 = col[13].string.strip() \n",
    "    else:column_13 = ''\n",
    "        \n",
    "    # and append it to first_name variable\n",
    "    pos.append(column_0)\n",
    "    name.append(column_1)\n",
    "    bib.append(column_2)\n",
    "    gender.append(column_3)\n",
    "    start.append(column_4)\n",
    "    club.append(column_5)\n",
    "    cp1.append(column_6)\n",
    "    cp2.append(column_7)\n",
    "    cp3.append(column_8)\n",
    "    cp4.append(column_9)\n",
    "    cp5.append(column_10)\n",
    "    cp6.append(column_11)\n",
    "    finish.append(column_12)\n",
    "    total.append(column_13)"
   ]
  },
  {
   "cell_type": "code",
   "execution_count": 6,
   "metadata": {
    "collapsed": false
   },
   "outputs": [],
   "source": [
    "# Create a pandas DataFrame from the lists created with parsed data from webpage\n",
    "# Set the index with the values in the name column\n",
    "\n",
    "df = pd.DataFrame({'pos':pos,\n",
    "                  'name': name,\n",
    "                  'bib': bib,\n",
    "                  'gender': gender,\n",
    "                  'start': start,\n",
    "                  'club': club,\n",
    "                  'CP1': cp1,\n",
    "                  'CP2': cp2,\n",
    "                  'CP3': cp3,\n",
    "                  'CP4': cp4,\n",
    "                  'CP5': cp5,\n",
    "                  'CP6': cp6,\n",
    "                  'finish': finish,\n",
    "                  'total': total}, index = name)"
   ]
  },
  {
   "cell_type": "code",
   "execution_count": 7,
   "metadata": {
    "collapsed": false
   },
   "outputs": [
    {
     "data": {
      "text/html": [
       "<div>\n",
       "<style scoped>\n",
       "    .dataframe tbody tr th:only-of-type {\n",
       "        vertical-align: middle;\n",
       "    }\n",
       "\n",
       "    .dataframe tbody tr th {\n",
       "        vertical-align: top;\n",
       "    }\n",
       "\n",
       "    .dataframe thead th {\n",
       "        text-align: right;\n",
       "    }\n",
       "</style>\n",
       "<table border=\"1\" class=\"dataframe\">\n",
       "  <thead>\n",
       "    <tr style=\"text-align: right;\">\n",
       "      <th></th>\n",
       "      <th>CP1</th>\n",
       "      <th>CP2</th>\n",
       "      <th>CP3</th>\n",
       "      <th>CP4</th>\n",
       "      <th>CP5</th>\n",
       "      <th>CP6</th>\n",
       "      <th>bib</th>\n",
       "      <th>club</th>\n",
       "      <th>finish</th>\n",
       "      <th>gender</th>\n",
       "      <th>name</th>\n",
       "      <th>pos</th>\n",
       "      <th>start</th>\n",
       "      <th>total</th>\n",
       "    </tr>\n",
       "  </thead>\n",
       "  <tbody>\n",
       "    <tr>\n",
       "      <th>John Connolly</th>\n",
       "      <td>09:58:30</td>\n",
       "      <td>11:26:51</td>\n",
       "      <td>12:58:00</td>\n",
       "      <td>14:34:00</td>\n",
       "      <td>15:41:00</td>\n",
       "      <td>17:04:49</td>\n",
       "      <td>19</td>\n",
       "      <td>Team Pyllon</td>\n",
       "      <td>17:54:10</td>\n",
       "      <td>Male</td>\n",
       "      <td>John Connolly</td>\n",
       "      <td>1</td>\n",
       "      <td>08:30:00</td>\n",
       "      <td>09:24:10</td>\n",
       "    </tr>\n",
       "    <tr>\n",
       "      <th>Charles Harpur</th>\n",
       "      <td>09:56:03</td>\n",
       "      <td>11:22:10</td>\n",
       "      <td>13:20:00</td>\n",
       "      <td>15:14:00</td>\n",
       "      <td>16:31:00</td>\n",
       "      <td>18:13:51</td>\n",
       "      <td>20</td>\n",
       "      <td>Mid Essex Casuals</td>\n",
       "      <td>19:09:10</td>\n",
       "      <td>Male</td>\n",
       "      <td>Charles Harpur</td>\n",
       "      <td>2</td>\n",
       "      <td>08:30:00</td>\n",
       "      <td>10:39:10</td>\n",
       "    </tr>\n",
       "  </tbody>\n",
       "</table>\n",
       "</div>"
      ],
      "text/plain": [
       "                     CP1       CP2       CP3       CP4       CP5       CP6  \\\n",
       "John Connolly   09:58:30  11:26:51  12:58:00  14:34:00  15:41:00  17:04:49   \n",
       "Charles Harpur  09:56:03  11:22:10  13:20:00  15:14:00  16:31:00  18:13:51   \n",
       "\n",
       "               bib               club    finish gender            name pos  \\\n",
       "John Connolly   19        Team Pyllon  17:54:10   Male   John Connolly   1   \n",
       "Charles Harpur  20  Mid Essex Casuals  19:09:10   Male  Charles Harpur   2   \n",
       "\n",
       "                   start     total  \n",
       "John Connolly   08:30:00  09:24:10  \n",
       "Charles Harpur  08:30:00  10:39:10  "
      ]
     },
     "execution_count": 7,
     "metadata": {},
     "output_type": "execute_result"
    }
   ],
   "source": [
    "# Check that the data looks OK by loading the first two rows\n",
    "\n",
    "df.head(2)"
   ]
  },
  {
   "cell_type": "markdown",
   "metadata": {},
   "source": [
    "### Formatting of columns"
   ]
  },
  {
   "cell_type": "code",
   "execution_count": 8,
   "metadata": {
    "collapsed": false
   },
   "outputs": [],
   "source": [
    "df[\"total\"] = [i.encode(\"utf-8\") for i in df[\"total\"]]"
   ]
  },
  {
   "cell_type": "code",
   "execution_count": 9,
   "metadata": {
    "collapsed": false
   },
   "outputs": [],
   "source": [
    "def str_to_min(x):\n",
    "    if not x == '':\n",
    "        hr_s = float((''.join(x[0]+x[1])))*(60*60)\n",
    "        min_s = float(''.join(x[3]+x[4]))*60\n",
    "        sec_s = float(''.join(x[6]+x[7]))\n",
    "        total_min = ((hr_s + min_s + sec_s)/ 60)\n",
    "        return round(total_min, 2)"
   ]
  },
  {
   "cell_type": "code",
   "execution_count": 10,
   "metadata": {
    "collapsed": false
   },
   "outputs": [],
   "source": [
    "df['total_min'] = df['total'].map(str_to_min)\n",
    "df[\"average_min\"] = round(df[\"total_min\"].mean(), 2)\n",
    "df[\"start\"] = datetime.datetime(2017, 8, 12, 7, 0 ,0)"
   ]
  },
  {
   "cell_type": "code",
   "execution_count": 11,
   "metadata": {
    "collapsed": false
   },
   "outputs": [
    {
     "data": {
      "text/plain": [
       "CP1                       08:53:55\n",
       "CP2                       10:51:53\n",
       "CP3                       12:52:00\n",
       "CP4                       14:48:00\n",
       "CP5                       16:19:00\n",
       "CP6                       18:04:25\n",
       "bib                            173\n",
       "club                              \n",
       "finish                    19:01:33\n",
       "gender                        Male\n",
       "name              Stephen Lemasney\n",
       "pos                              8\n",
       "start          2017-08-12 07:00:00\n",
       "total                     12:01:33\n",
       "total_min                   721.55\n",
       "average_min                 825.09\n",
       "Name: Stephen Lemasney, dtype: object"
      ]
     },
     "execution_count": 11,
     "metadata": {},
     "output_type": "execute_result"
    }
   ],
   "source": [
    "df.loc[\"Stephen Lemasney\"]"
   ]
  },
  {
   "cell_type": "code",
   "execution_count": 12,
   "metadata": {
    "collapsed": true
   },
   "outputs": [],
   "source": [
    "def cp2dt(cp):\n",
    "    df[cp] = pd.to_datetime(df[cp], format = \"%H:%M:%S\", errors=\"coerce\")\n",
    "    df[cp] = df[cp].apply(lambda dt: dt.replace(year = 2017, month = 8, day=12))\n",
    "    return df[cp]"
   ]
  },
  {
   "cell_type": "code",
   "execution_count": 13,
   "metadata": {
    "collapsed": false
   },
   "outputs": [],
   "source": [
    "cps = [\"CP1\",\"CP2\",\"CP3\",\"CP4\",\"CP5\",\"CP6\",\"finish\"]\n",
    "for i in cps: df[i] = cp2dt(i)"
   ]
  },
  {
   "cell_type": "code",
   "execution_count": 14,
   "metadata": {
    "collapsed": false
   },
   "outputs": [],
   "source": [
    "df[\"time2cp1\"] = df[\"CP1\"] - df[\"start\"]\n",
    "df[\"time2cp2\"] = df[\"CP2\"] - df[\"CP1\"] \n",
    "df[\"time2cp3\"] = df[\"CP3\"] - df[\"CP2\"] \n",
    "df[\"time2cp4\"] = df[\"CP4\"] - df[\"CP3\"] \n",
    "df[\"time2cp5\"] = df[\"CP5\"] - df[\"CP4\"]\n",
    "df[\"time2cp6\"] = df[\"CP6\"] - df[\"CP5\"]\n",
    "df[\"time2end\"] = df[\"finish\"] - df[\"CP6\"]"
   ]
  },
  {
   "cell_type": "code",
   "execution_count": 15,
   "metadata": {
    "collapsed": false
   },
   "outputs": [
    {
     "data": {
      "text/plain": [
       "CP1            2017-08-12 08:53:55\n",
       "CP2            2017-08-12 10:51:53\n",
       "CP3            2017-08-12 12:52:00\n",
       "CP4            2017-08-12 14:48:00\n",
       "CP5            2017-08-12 16:19:00\n",
       "CP6            2017-08-12 18:04:25\n",
       "bib                            173\n",
       "club                              \n",
       "finish         2017-08-12 19:01:33\n",
       "gender                        Male\n",
       "name              Stephen Lemasney\n",
       "pos                              8\n",
       "start          2017-08-12 07:00:00\n",
       "total                     12:01:33\n",
       "total_min                   721.55\n",
       "average_min                 825.09\n",
       "time2cp1           0 days 01:53:55\n",
       "time2cp2           0 days 01:57:58\n",
       "time2cp3           0 days 02:00:07\n",
       "time2cp4           0 days 01:56:00\n",
       "time2cp5           0 days 01:31:00\n",
       "time2cp6           0 days 01:45:25\n",
       "time2end           0 days 00:57:08\n",
       "Name: Stephen Lemasney, dtype: object"
      ]
     },
     "execution_count": 15,
     "metadata": {},
     "output_type": "execute_result"
    }
   ],
   "source": [
    "df.loc[\"Stephen Lemasney\"]"
   ]
  },
  {
   "cell_type": "markdown",
   "metadata": {},
   "source": [
    "## Summary Stats"
   ]
  },
  {
   "cell_type": "code",
   "execution_count": 16,
   "metadata": {
    "collapsed": false
   },
   "outputs": [
    {
     "data": {
      "text/html": [
       "<div>\n",
       "<style scoped>\n",
       "    .dataframe tbody tr th:only-of-type {\n",
       "        vertical-align: middle;\n",
       "    }\n",
       "\n",
       "    .dataframe tbody tr th {\n",
       "        vertical-align: top;\n",
       "    }\n",
       "\n",
       "    .dataframe thead th {\n",
       "        text-align: right;\n",
       "    }\n",
       "</style>\n",
       "<table border=\"1\" class=\"dataframe\">\n",
       "  <thead>\n",
       "    <tr style=\"text-align: right;\">\n",
       "      <th></th>\n",
       "      <th>total_min</th>\n",
       "    </tr>\n",
       "  </thead>\n",
       "  <tbody>\n",
       "    <tr>\n",
       "      <th>count</th>\n",
       "      <td>67.000000</td>\n",
       "    </tr>\n",
       "    <tr>\n",
       "      <th>mean</th>\n",
       "      <td>825.094925</td>\n",
       "    </tr>\n",
       "    <tr>\n",
       "      <th>std</th>\n",
       "      <td>80.862988</td>\n",
       "    </tr>\n",
       "    <tr>\n",
       "      <th>min</th>\n",
       "      <td>564.170000</td>\n",
       "    </tr>\n",
       "    <tr>\n",
       "      <th>25%</th>\n",
       "      <td>763.340000</td>\n",
       "    </tr>\n",
       "    <tr>\n",
       "      <th>50%</th>\n",
       "      <td>848.170000</td>\n",
       "    </tr>\n",
       "    <tr>\n",
       "      <th>75%</th>\n",
       "      <td>891.935000</td>\n",
       "    </tr>\n",
       "    <tr>\n",
       "      <th>max</th>\n",
       "      <td>927.850000</td>\n",
       "    </tr>\n",
       "  </tbody>\n",
       "</table>\n",
       "</div>"
      ],
      "text/plain": [
       "        total_min\n",
       "count   67.000000\n",
       "mean   825.094925\n",
       "std     80.862988\n",
       "min    564.170000\n",
       "25%    763.340000\n",
       "50%    848.170000\n",
       "75%    891.935000\n",
       "max    927.850000"
      ]
     },
     "execution_count": 16,
     "metadata": {},
     "output_type": "execute_result"
    }
   ],
   "source": [
    "summary_stats = df['total_min'].describe()\n",
    "summary_stats = pd.DataFrame(summary_stats)\n",
    "summary_stats"
   ]
  },
  {
   "cell_type": "code",
   "execution_count": 17,
   "metadata": {
    "collapsed": false
   },
   "outputs": [
    {
     "data": {
      "text/plain": [
       "<matplotlib.axes._subplots.AxesSubplot at 0xf00fdd0>"
      ]
     },
     "execution_count": 17,
     "metadata": {},
     "output_type": "execute_result"
    },
    {
     "data": {
      "image/png": "[encoded data removed]",
      "text/plain": [
       "<matplotlib.figure.Figure at 0xee16bf0>"
      ]
     },
     "metadata": {},
     "output_type": "display_data"
    }
   ],
   "source": [
    "df['total_min'].hist()"
   ]
  },
  {
   "cell_type": "markdown",
   "metadata": {},
   "source": [
    "## Check Point distances"
   ]
  },
  {
   "cell_type": "code",
   "execution_count": 36,
   "metadata": {
    "collapsed": false
   },
   "outputs": [
    {
     "data": {
      "text/html": [
       "<div>\n",
       "<style scoped>\n",
       "    .dataframe tbody tr th:only-of-type {\n",
       "        vertical-align: middle;\n",
       "    }\n",
       "\n",
       "    .dataframe tbody tr th {\n",
       "        vertical-align: top;\n",
       "    }\n",
       "\n",
       "    .dataframe thead th {\n",
       "        text-align: right;\n",
       "    }\n",
       "</style>\n",
       "<table border=\"1\" class=\"dataframe\">\n",
       "  <thead>\n",
       "    <tr style=\"text-align: right;\">\n",
       "      <th></th>\n",
       "      <th>cp_miles</th>\n",
       "      <th>cp_miles_s</th>\n",
       "      <th>cp_km</th>\n",
       "      <th>cp_km_s</th>\n",
       "    </tr>\n",
       "  </thead>\n",
       "  <tbody>\n",
       "    <tr>\n",
       "      <th>time2cp1</th>\n",
       "      <td>12.0</td>\n",
       "      <td>12.0</td>\n",
       "      <td>19.31208</td>\n",
       "      <td>19.31208</td>\n",
       "    </tr>\n",
       "    <tr>\n",
       "      <th>time2cp2</th>\n",
       "      <td>23.0</td>\n",
       "      <td>11.0</td>\n",
       "      <td>37.01482</td>\n",
       "      <td>17.70274</td>\n",
       "    </tr>\n",
       "    <tr>\n",
       "      <th>time2cp3</th>\n",
       "      <td>33.0</td>\n",
       "      <td>10.0</td>\n",
       "      <td>53.10822</td>\n",
       "      <td>16.09340</td>\n",
       "    </tr>\n",
       "    <tr>\n",
       "      <th>time2cp4</th>\n",
       "      <td>44.0</td>\n",
       "      <td>11.0</td>\n",
       "      <td>70.81096</td>\n",
       "      <td>17.70274</td>\n",
       "    </tr>\n",
       "    <tr>\n",
       "      <th>time2cp5</th>\n",
       "      <td>50.0</td>\n",
       "      <td>6.0</td>\n",
       "      <td>80.46700</td>\n",
       "      <td>9.65604</td>\n",
       "    </tr>\n",
       "    <tr>\n",
       "      <th>time2cp6</th>\n",
       "      <td>58.5</td>\n",
       "      <td>8.5</td>\n",
       "      <td>94.14639</td>\n",
       "      <td>13.67939</td>\n",
       "    </tr>\n",
       "    <tr>\n",
       "      <th>time2end</th>\n",
       "      <td>63.0</td>\n",
       "      <td>4.5</td>\n",
       "      <td>101.38842</td>\n",
       "      <td>7.24203</td>\n",
       "    </tr>\n",
       "  </tbody>\n",
       "</table>\n",
       "</div>"
      ],
      "text/plain": [
       "          cp_miles  cp_miles_s      cp_km   cp_km_s\n",
       "time2cp1      12.0        12.0   19.31208  19.31208\n",
       "time2cp2      23.0        11.0   37.01482  17.70274\n",
       "time2cp3      33.0        10.0   53.10822  16.09340\n",
       "time2cp4      44.0        11.0   70.81096  17.70274\n",
       "time2cp5      50.0         6.0   80.46700   9.65604\n",
       "time2cp6      58.5         8.5   94.14639  13.67939\n",
       "time2end      63.0         4.5  101.38842   7.24203"
      ]
     },
     "execution_count": 36,
     "metadata": {},
     "output_type": "execute_result"
    }
   ],
   "source": [
    "# Manually create new DataFrame with checkpoints and distances\n",
    "# Convert the distances to Miles and KM\n",
    "\n",
    "convert_km = 1.60934\n",
    "cp = [\"time2cp1\", \"time2cp2\", \"time2cp3\", \"time2cp4\", \"time2cp5\", \"time2cp6\", \"time2end\"]\n",
    "cp_miles = [12, 23, 33, 44, 50, 58.5, 63]\n",
    "cp_miles_s = [12,11,10,11,6,8.5,4.5]\n",
    "cp_distances = pd.DataFrame({\"cp_miles\": cp_miles, \"cp_miles_s\": cp_miles_s}, index = cp)\n",
    "cp_distances[\"cp_km\"] = cp_distances[\"cp_miles\"] * convert_km\n",
    "cp_distances[\"cp_km_s\"] = cp_distances[\"cp_miles_s\"] * convert_km\n",
    "cp_distances"
   ]
  },
  {
   "cell_type": "markdown",
   "metadata": {},
   "source": [
    "## Create table with averages data"
   ]
  },
  {
   "cell_type": "code",
   "execution_count": 37,
   "metadata": {
    "collapsed": false
   },
   "outputs": [],
   "source": [
    "columns = [\"time2cp1\",\"time2cp2\",\"time2cp3\",\"time2cp4\",\"time2cp5\",\"time2cp6\",\"time2end\"]\n",
    "df_time2cp = pd.DataFrame(df, columns= columns)"
   ]
  },
  {
   "cell_type": "code",
   "execution_count": 38,
   "metadata": {
    "collapsed": false
   },
   "outputs": [
    {
     "data": {
      "text/html": [
       "<div>\n",
       "<style scoped>\n",
       "    .dataframe tbody tr th:only-of-type {\n",
       "        vertical-align: middle;\n",
       "    }\n",
       "\n",
       "    .dataframe tbody tr th {\n",
       "        vertical-align: top;\n",
       "    }\n",
       "\n",
       "    .dataframe thead th {\n",
       "        text-align: right;\n",
       "    }\n",
       "</style>\n",
       "<table border=\"1\" class=\"dataframe\">\n",
       "  <thead>\n",
       "    <tr style=\"text-align: right;\">\n",
       "      <th></th>\n",
       "      <th>time2cp1</th>\n",
       "      <th>time2cp2</th>\n",
       "      <th>time2cp3</th>\n",
       "      <th>time2cp4</th>\n",
       "      <th>time2cp5</th>\n",
       "      <th>time2cp6</th>\n",
       "      <th>time2end</th>\n",
       "    </tr>\n",
       "  </thead>\n",
       "  <tbody>\n",
       "    <tr>\n",
       "      <th>John Connolly</th>\n",
       "      <td>02:58:30</td>\n",
       "      <td>01:28:21</td>\n",
       "      <td>01:31:09</td>\n",
       "      <td>01:36:00</td>\n",
       "      <td>01:07:00</td>\n",
       "      <td>01:23:49</td>\n",
       "      <td>00:49:21</td>\n",
       "    </tr>\n",
       "    <tr>\n",
       "      <th>Charles Harpur</th>\n",
       "      <td>02:56:03</td>\n",
       "      <td>01:26:07</td>\n",
       "      <td>01:57:50</td>\n",
       "      <td>01:54:00</td>\n",
       "      <td>01:17:00</td>\n",
       "      <td>01:42:51</td>\n",
       "      <td>00:55:19</td>\n",
       "    </tr>\n",
       "    <tr>\n",
       "      <th>kelly pepper</th>\n",
       "      <td>03:14:44</td>\n",
       "      <td>01:46:22</td>\n",
       "      <td>01:48:54</td>\n",
       "      <td>01:52:00</td>\n",
       "      <td>01:14:00</td>\n",
       "      <td>01:37:49</td>\n",
       "      <td>00:57:06</td>\n",
       "    </tr>\n",
       "    <tr>\n",
       "      <th>Colin Harper</th>\n",
       "      <td>03:15:26</td>\n",
       "      <td>01:52:35</td>\n",
       "      <td>01:43:59</td>\n",
       "      <td>02:00:00</td>\n",
       "      <td>01:20:00</td>\n",
       "      <td>01:41:46</td>\n",
       "      <td>00:59:51</td>\n",
       "    </tr>\n",
       "    <tr>\n",
       "      <th>Nigel Harrison</th>\n",
       "      <td>01:49:35</td>\n",
       "      <td>01:54:52</td>\n",
       "      <td>01:48:33</td>\n",
       "      <td>02:08:00</td>\n",
       "      <td>01:21:00</td>\n",
       "      <td>01:38:23</td>\n",
       "      <td>00:56:35</td>\n",
       "    </tr>\n",
       "    <tr>\n",
       "      <th>Andy Goldsmith</th>\n",
       "      <td>03:19:54</td>\n",
       "      <td>01:52:05</td>\n",
       "      <td>01:51:01</td>\n",
       "      <td>02:23:00</td>\n",
       "      <td>01:20:00</td>\n",
       "      <td>01:44:44</td>\n",
       "      <td>00:51:59</td>\n",
       "    </tr>\n",
       "    <tr>\n",
       "      <th>Phil Jackson</th>\n",
       "      <td>01:49:30</td>\n",
       "      <td>01:58:14</td>\n",
       "      <td>01:55:16</td>\n",
       "      <td>02:09:00</td>\n",
       "      <td>01:27:00</td>\n",
       "      <td>01:46:19</td>\n",
       "      <td>00:56:14</td>\n",
       "    </tr>\n",
       "    <tr>\n",
       "      <th>Stephen Lemasney</th>\n",
       "      <td>01:53:55</td>\n",
       "      <td>01:57:58</td>\n",
       "      <td>02:00:07</td>\n",
       "      <td>01:56:00</td>\n",
       "      <td>01:31:00</td>\n",
       "      <td>01:45:25</td>\n",
       "      <td>00:57:08</td>\n",
       "    </tr>\n",
       "  </tbody>\n",
       "</table>\n",
       "</div>"
      ],
      "text/plain": [
       "                 time2cp1 time2cp2 time2cp3 time2cp4 time2cp5 time2cp6  \\\n",
       "John Connolly    02:58:30 01:28:21 01:31:09 01:36:00 01:07:00 01:23:49   \n",
       "Charles Harpur   02:56:03 01:26:07 01:57:50 01:54:00 01:17:00 01:42:51   \n",
       "kelly pepper     03:14:44 01:46:22 01:48:54 01:52:00 01:14:00 01:37:49   \n",
       "Colin Harper     03:15:26 01:52:35 01:43:59 02:00:00 01:20:00 01:41:46   \n",
       "Nigel Harrison   01:49:35 01:54:52 01:48:33 02:08:00 01:21:00 01:38:23   \n",
       "Andy Goldsmith   03:19:54 01:52:05 01:51:01 02:23:00 01:20:00 01:44:44   \n",
       "Phil Jackson     01:49:30 01:58:14 01:55:16 02:09:00 01:27:00 01:46:19   \n",
       "Stephen Lemasney 01:53:55 01:57:58 02:00:07 01:56:00 01:31:00 01:45:25   \n",
       "\n",
       "                 time2end  \n",
       "John Connolly    00:49:21  \n",
       "Charles Harpur   00:55:19  \n",
       "kelly pepper     00:57:06  \n",
       "Colin Harper     00:59:51  \n",
       "Nigel Harrison   00:56:35  \n",
       "Andy Goldsmith   00:51:59  \n",
       "Phil Jackson     00:56:14  \n",
       "Stephen Lemasney 00:57:08  "
      ]
     },
     "execution_count": 38,
     "metadata": {},
     "output_type": "execute_result"
    }
   ],
   "source": [
    "for i in columns: \n",
    "    df[i] = df[i]\n",
    "df_time2cp.head(8)"
   ]
  },
  {
   "cell_type": "code",
   "execution_count": 39,
   "metadata": {
    "collapsed": false
   },
   "outputs": [],
   "source": [
    "columns = [\"time2cp1\",\"time2cp2\",\"time2cp3\",\"time2cp4\",\"time2cp5\",\"time2cp6\",\"time2end\"]\n",
    "df_averages = {}"
   ]
  },
  {
   "cell_type": "code",
   "execution_count": 40,
   "metadata": {
    "collapsed": false
   },
   "outputs": [
    {
     "data": {
      "text/plain": [
       "{'time2cp1': Timedelta('0 days 02:25:35.206521'),\n",
       " 'time2cp2': Timedelta('0 days 02:13:09.678160'),\n",
       " 'time2cp3': Timedelta('0 days 02:10:43.860759'),\n",
       " 'time2cp4': Timedelta('0 days 02:31:55.068493'),\n",
       " 'time2cp5': Timedelta('0 days 01:34:58.985915'),\n",
       " 'time2cp6': Timedelta('0 days 02:08:30.880597'),\n",
       " 'time2end': Timedelta('0 days 01:12:04.522388')}"
      ]
     },
     "execution_count": 40,
     "metadata": {},
     "output_type": "execute_result"
    }
   ],
   "source": [
    "for i in columns:\n",
    "    df_averages[str(i)] = df_time2cp[str(i)].mean()\n",
    "\n",
    "df_averages"
   ]
  },
  {
   "cell_type": "code",
   "execution_count": 41,
   "metadata": {
    "collapsed": false
   },
   "outputs": [
    {
     "data": {
      "text/plain": [
       "time2cp1   02:25:35.206521\n",
       "time2cp2   02:13:09.678160\n",
       "time2cp3   02:10:43.860759\n",
       "time2cp4   02:31:55.068493\n",
       "time2cp5   01:34:58.985915\n",
       "time2cp6   02:08:30.880597\n",
       "time2end   01:12:04.522388\n",
       "Name: 2017, dtype: timedelta64[ns]"
      ]
     },
     "execution_count": 41,
     "metadata": {},
     "output_type": "execute_result"
    }
   ],
   "source": [
    "#df_averages = df_averages.iloc[3][3]\n",
    "df_averages = pd.Series(df_averages, name = \"2017\")\n",
    "df_averages"
   ]
  },
  {
   "cell_type": "code",
   "execution_count": 42,
   "metadata": {
    "collapsed": false
   },
   "outputs": [],
   "source": [
    "df_averages = pd.DataFrame(df_averages)\n",
    "df_averages = (df_averages.join(cp_distances))\n"
   ]
  },
  {
   "cell_type": "code",
   "execution_count": 43,
   "metadata": {
    "collapsed": false
   },
   "outputs": [
    {
     "data": {
      "text/html": [
       "<div>\n",
       "<style scoped>\n",
       "    .dataframe tbody tr th:only-of-type {\n",
       "        vertical-align: middle;\n",
       "    }\n",
       "\n",
       "    .dataframe tbody tr th {\n",
       "        vertical-align: top;\n",
       "    }\n",
       "\n",
       "    .dataframe thead th {\n",
       "        text-align: right;\n",
       "    }\n",
       "</style>\n",
       "<table border=\"1\" class=\"dataframe\">\n",
       "  <thead>\n",
       "    <tr style=\"text-align: right;\">\n",
       "      <th></th>\n",
       "      <th>2017</th>\n",
       "      <th>cp_miles</th>\n",
       "      <th>cp_miles_s</th>\n",
       "      <th>cp_km</th>\n",
       "      <th>cp_km_s</th>\n",
       "      <th>2017_min</th>\n",
       "      <th>min_km</th>\n",
       "    </tr>\n",
       "  </thead>\n",
       "  <tbody>\n",
       "    <tr>\n",
       "      <th>time2cp1</th>\n",
       "      <td>02:25:35.206521</td>\n",
       "      <td>12.0</td>\n",
       "      <td>12.0</td>\n",
       "      <td>19.31208</td>\n",
       "      <td>19.31208</td>\n",
       "      <td>145.586775</td>\n",
       "      <td>7.538638</td>\n",
       "    </tr>\n",
       "    <tr>\n",
       "      <th>time2cp2</th>\n",
       "      <td>02:13:09.678160</td>\n",
       "      <td>23.0</td>\n",
       "      <td>11.0</td>\n",
       "      <td>37.01482</td>\n",
       "      <td>17.70274</td>\n",
       "      <td>133.161303</td>\n",
       "      <td>7.522073</td>\n",
       "    </tr>\n",
       "    <tr>\n",
       "      <th>time2cp3</th>\n",
       "      <td>02:10:43.860759</td>\n",
       "      <td>33.0</td>\n",
       "      <td>10.0</td>\n",
       "      <td>53.10822</td>\n",
       "      <td>16.09340</td>\n",
       "      <td>130.731013</td>\n",
       "      <td>8.123269</td>\n",
       "    </tr>\n",
       "    <tr>\n",
       "      <th>time2cp4</th>\n",
       "      <td>02:31:55.068493</td>\n",
       "      <td>44.0</td>\n",
       "      <td>11.0</td>\n",
       "      <td>70.81096</td>\n",
       "      <td>17.70274</td>\n",
       "      <td>151.917808</td>\n",
       "      <td>8.581599</td>\n",
       "    </tr>\n",
       "    <tr>\n",
       "      <th>time2cp5</th>\n",
       "      <td>01:34:58.985915</td>\n",
       "      <td>50.0</td>\n",
       "      <td>6.0</td>\n",
       "      <td>80.46700</td>\n",
       "      <td>9.65604</td>\n",
       "      <td>94.983099</td>\n",
       "      <td>9.836651</td>\n",
       "    </tr>\n",
       "    <tr>\n",
       "      <th>time2cp6</th>\n",
       "      <td>02:08:30.880597</td>\n",
       "      <td>58.5</td>\n",
       "      <td>8.5</td>\n",
       "      <td>94.14639</td>\n",
       "      <td>13.67939</td>\n",
       "      <td>128.514677</td>\n",
       "      <td>9.394767</td>\n",
       "    </tr>\n",
       "    <tr>\n",
       "      <th>time2end</th>\n",
       "      <td>01:12:04.522388</td>\n",
       "      <td>63.0</td>\n",
       "      <td>4.5</td>\n",
       "      <td>101.38842</td>\n",
       "      <td>7.24203</td>\n",
       "      <td>72.075373</td>\n",
       "      <td>9.952372</td>\n",
       "    </tr>\n",
       "  </tbody>\n",
       "</table>\n",
       "</div>"
      ],
      "text/plain": [
       "                    2017  cp_miles  cp_miles_s      cp_km   cp_km_s  \\\n",
       "time2cp1 02:25:35.206521      12.0        12.0   19.31208  19.31208   \n",
       "time2cp2 02:13:09.678160      23.0        11.0   37.01482  17.70274   \n",
       "time2cp3 02:10:43.860759      33.0        10.0   53.10822  16.09340   \n",
       "time2cp4 02:31:55.068493      44.0        11.0   70.81096  17.70274   \n",
       "time2cp5 01:34:58.985915      50.0         6.0   80.46700   9.65604   \n",
       "time2cp6 02:08:30.880597      58.5         8.5   94.14639  13.67939   \n",
       "time2end 01:12:04.522388      63.0         4.5  101.38842   7.24203   \n",
       "\n",
       "            2017_min    min_km  \n",
       "time2cp1  145.586775  7.538638  \n",
       "time2cp2  133.161303  7.522073  \n",
       "time2cp3  130.731013  8.123269  \n",
       "time2cp4  151.917808  8.581599  \n",
       "time2cp5   94.983099  9.836651  \n",
       "time2cp6  128.514677  9.394767  \n",
       "time2end   72.075373  9.952372  "
      ]
     },
     "execution_count": 43,
     "metadata": {},
     "output_type": "execute_result"
    }
   ],
   "source": [
    "df_averages[\"2017_min\"] = [(i.total_seconds()/60) for i in df_averages[\"2017\"]]\n",
    "df_averages[\"min_km\"] = df_averages[\"2017_min\"]/df_averages[\"cp_km_s\"]\n",
    "df_averages\n"
   ]
  },
  {
   "cell_type": "code",
   "execution_count": 44,
   "metadata": {
    "collapsed": false
   },
   "outputs": [
    {
     "data": {
      "text/plain": [
       "<matplotlib.text.Text at 0xf370690>"
      ]
     },
     "execution_count": 44,
     "metadata": {},
     "output_type": "execute_result"
    },
    {
     "data": {
      "image/png": "[encoded data removed]",
      "text/plain": [
       "<matplotlib.figure.Figure at 0xf1aae50>"
      ]
     },
     "metadata": {},
     "output_type": "display_data"
    }
   ],
   "source": [
    "plot = df_averages[\"min_km\"].plot(grid = True, fontsize = 12, figsize  = (8,5))\n",
    "plot.set_xlabel(\"Checkpoints\", fontsize = 12)\n",
    "plot.set_ylabel(\"Mins per km\", fontsize = 12)\n",
    "plot.set_title( \"Average pace (min per km) per Checkpoint\",fontsize = 12)"
   ]
  },
  {
   "cell_type": "markdown",
   "metadata": {},
   "source": [
    "# SCRATCH"
   ]
  },
  {
   "cell_type": "code",
   "execution_count": null,
   "metadata": {
    "collapsed": false
   },
   "outputs": [],
   "source": []
  },
  {
   "cell_type": "code",
   "execution_count": 70,
   "metadata": {
    "collapsed": false
   },
   "outputs": [],
   "source": [
    "df_slemasne = df.loc[\"Stephen Lemasney\"][columns]\n",
    "df_slemasne = pd.DataFrame(df_slemasne)\n",
    "df_slemasne = df_slemasne.join(df_averages)"
   ]
  },
  {
   "cell_type": "code",
   "execution_count": 71,
   "metadata": {
    "collapsed": false
   },
   "outputs": [
    {
     "data": {
      "text/html": [
       "<div>\n",
       "<style scoped>\n",
       "    .dataframe tbody tr th:only-of-type {\n",
       "        vertical-align: middle;\n",
       "    }\n",
       "\n",
       "    .dataframe tbody tr th {\n",
       "        vertical-align: top;\n",
       "    }\n",
       "\n",
       "    .dataframe thead th {\n",
       "        text-align: right;\n",
       "    }\n",
       "</style>\n",
       "<table border=\"1\" class=\"dataframe\">\n",
       "  <thead>\n",
       "    <tr style=\"text-align: right;\">\n",
       "      <th></th>\n",
       "      <th>Stephen Lemasney</th>\n",
       "      <th>2017</th>\n",
       "      <th>cp_miles</th>\n",
       "      <th>cp_miles_s</th>\n",
       "      <th>cp_km</th>\n",
       "      <th>cp_km_s</th>\n",
       "      <th>2017_min</th>\n",
       "      <th>min_km</th>\n",
       "    </tr>\n",
       "  </thead>\n",
       "  <tbody>\n",
       "    <tr>\n",
       "      <th>time2cp1</th>\n",
       "      <td>0 days 01:53:55</td>\n",
       "      <td>02:25:35.206521</td>\n",
       "      <td>12.0</td>\n",
       "      <td>12.0</td>\n",
       "      <td>19.31208</td>\n",
       "      <td>19.31208</td>\n",
       "      <td>145.586775</td>\n",
       "      <td>7.538638</td>\n",
       "    </tr>\n",
       "    <tr>\n",
       "      <th>time2cp2</th>\n",
       "      <td>0 days 01:57:58</td>\n",
       "      <td>02:13:09.678160</td>\n",
       "      <td>23.0</td>\n",
       "      <td>11.0</td>\n",
       "      <td>37.01482</td>\n",
       "      <td>17.70274</td>\n",
       "      <td>133.161303</td>\n",
       "      <td>7.522073</td>\n",
       "    </tr>\n",
       "    <tr>\n",
       "      <th>time2cp3</th>\n",
       "      <td>0 days 02:00:07</td>\n",
       "      <td>02:10:43.860759</td>\n",
       "      <td>33.0</td>\n",
       "      <td>10.0</td>\n",
       "      <td>53.10822</td>\n",
       "      <td>16.09340</td>\n",
       "      <td>130.731013</td>\n",
       "      <td>8.123269</td>\n",
       "    </tr>\n",
       "    <tr>\n",
       "      <th>time2cp4</th>\n",
       "      <td>0 days 01:56:00</td>\n",
       "      <td>02:31:55.068493</td>\n",
       "      <td>44.0</td>\n",
       "      <td>11.0</td>\n",
       "      <td>70.81096</td>\n",
       "      <td>17.70274</td>\n",
       "      <td>151.917808</td>\n",
       "      <td>8.581599</td>\n",
       "    </tr>\n",
       "    <tr>\n",
       "      <th>time2cp5</th>\n",
       "      <td>0 days 01:31:00</td>\n",
       "      <td>01:34:58.985915</td>\n",
       "      <td>50.0</td>\n",
       "      <td>6.0</td>\n",
       "      <td>80.46700</td>\n",
       "      <td>9.65604</td>\n",
       "      <td>94.983099</td>\n",
       "      <td>9.836651</td>\n",
       "    </tr>\n",
       "    <tr>\n",
       "      <th>time2cp6</th>\n",
       "      <td>0 days 01:45:25</td>\n",
       "      <td>02:08:30.880597</td>\n",
       "      <td>58.5</td>\n",
       "      <td>8.5</td>\n",
       "      <td>94.14639</td>\n",
       "      <td>13.67939</td>\n",
       "      <td>128.514677</td>\n",
       "      <td>9.394767</td>\n",
       "    </tr>\n",
       "    <tr>\n",
       "      <th>time2end</th>\n",
       "      <td>0 days 00:57:08</td>\n",
       "      <td>01:12:04.522388</td>\n",
       "      <td>63.0</td>\n",
       "      <td>4.5</td>\n",
       "      <td>101.38842</td>\n",
       "      <td>7.24203</td>\n",
       "      <td>72.075373</td>\n",
       "      <td>9.952372</td>\n",
       "    </tr>\n",
       "  </tbody>\n",
       "</table>\n",
       "</div>"
      ],
      "text/plain": [
       "         Stephen Lemasney            2017  cp_miles  cp_miles_s      cp_km  \\\n",
       "time2cp1  0 days 01:53:55 02:25:35.206521      12.0        12.0   19.31208   \n",
       "time2cp2  0 days 01:57:58 02:13:09.678160      23.0        11.0   37.01482   \n",
       "time2cp3  0 days 02:00:07 02:10:43.860759      33.0        10.0   53.10822   \n",
       "time2cp4  0 days 01:56:00 02:31:55.068493      44.0        11.0   70.81096   \n",
       "time2cp5  0 days 01:31:00 01:34:58.985915      50.0         6.0   80.46700   \n",
       "time2cp6  0 days 01:45:25 02:08:30.880597      58.5         8.5   94.14639   \n",
       "time2end  0 days 00:57:08 01:12:04.522388      63.0         4.5  101.38842   \n",
       "\n",
       "           cp_km_s    2017_min    min_km  \n",
       "time2cp1  19.31208  145.586775  7.538638  \n",
       "time2cp2  17.70274  133.161303  7.522073  \n",
       "time2cp3  16.09340  130.731013  8.123269  \n",
       "time2cp4  17.70274  151.917808  8.581599  \n",
       "time2cp5   9.65604   94.983099  9.836651  \n",
       "time2cp6  13.67939  128.514677  9.394767  \n",
       "time2end   7.24203   72.075373  9.952372  "
      ]
     },
     "execution_count": 71,
     "metadata": {},
     "output_type": "execute_result"
    }
   ],
   "source": [
    "df_slemasne"
   ]
  },
  {
   "cell_type": "code",
   "execution_count": 74,
   "metadata": {
    "collapsed": false
   },
   "outputs": [
    {
     "data": {
      "text/html": [
       "<div>\n",
       "<style scoped>\n",
       "    .dataframe tbody tr th:only-of-type {\n",
       "        vertical-align: middle;\n",
       "    }\n",
       "\n",
       "    .dataframe tbody tr th {\n",
       "        vertical-align: top;\n",
       "    }\n",
       "\n",
       "    .dataframe thead th {\n",
       "        text-align: right;\n",
       "    }\n",
       "</style>\n",
       "<table border=\"1\" class=\"dataframe\">\n",
       "  <thead>\n",
       "    <tr style=\"text-align: right;\">\n",
       "      <th></th>\n",
       "      <th>Stephen Lemasney</th>\n",
       "      <th>2017</th>\n",
       "      <th>cp_miles</th>\n",
       "      <th>cp_miles_s</th>\n",
       "      <th>cp_km</th>\n",
       "      <th>cp_km_s</th>\n",
       "      <th>2017_min</th>\n",
       "      <th>min_km</th>\n",
       "      <th>slm_mins</th>\n",
       "      <th>slm_min_km</th>\n",
       "    </tr>\n",
       "  </thead>\n",
       "  <tbody>\n",
       "    <tr>\n",
       "      <th>time2cp1</th>\n",
       "      <td>0 days 01:53:55</td>\n",
       "      <td>02:25:35.206521</td>\n",
       "      <td>12.0</td>\n",
       "      <td>12.0</td>\n",
       "      <td>19.31208</td>\n",
       "      <td>19.31208</td>\n",
       "      <td>145.586775</td>\n",
       "      <td>7.538638</td>\n",
       "      <td>113.916667</td>\n",
       "      <td>5.898726</td>\n",
       "    </tr>\n",
       "    <tr>\n",
       "      <th>time2cp2</th>\n",
       "      <td>0 days 01:57:58</td>\n",
       "      <td>02:13:09.678160</td>\n",
       "      <td>23.0</td>\n",
       "      <td>11.0</td>\n",
       "      <td>37.01482</td>\n",
       "      <td>17.70274</td>\n",
       "      <td>133.161303</td>\n",
       "      <td>7.522073</td>\n",
       "      <td>117.966667</td>\n",
       "      <td>6.663752</td>\n",
       "    </tr>\n",
       "    <tr>\n",
       "      <th>time2cp3</th>\n",
       "      <td>0 days 02:00:07</td>\n",
       "      <td>02:10:43.860759</td>\n",
       "      <td>33.0</td>\n",
       "      <td>10.0</td>\n",
       "      <td>53.10822</td>\n",
       "      <td>16.09340</td>\n",
       "      <td>130.731013</td>\n",
       "      <td>8.123269</td>\n",
       "      <td>120.116667</td>\n",
       "      <td>7.463722</td>\n",
       "    </tr>\n",
       "    <tr>\n",
       "      <th>time2cp4</th>\n",
       "      <td>0 days 01:56:00</td>\n",
       "      <td>02:31:55.068493</td>\n",
       "      <td>44.0</td>\n",
       "      <td>11.0</td>\n",
       "      <td>70.81096</td>\n",
       "      <td>17.70274</td>\n",
       "      <td>151.917808</td>\n",
       "      <td>8.581599</td>\n",
       "      <td>116.000000</td>\n",
       "      <td>6.552658</td>\n",
       "    </tr>\n",
       "    <tr>\n",
       "      <th>time2cp5</th>\n",
       "      <td>0 days 01:31:00</td>\n",
       "      <td>01:34:58.985915</td>\n",
       "      <td>50.0</td>\n",
       "      <td>6.0</td>\n",
       "      <td>80.46700</td>\n",
       "      <td>9.65604</td>\n",
       "      <td>94.983099</td>\n",
       "      <td>9.836651</td>\n",
       "      <td>91.000000</td>\n",
       "      <td>9.424153</td>\n",
       "    </tr>\n",
       "    <tr>\n",
       "      <th>time2cp6</th>\n",
       "      <td>0 days 01:45:25</td>\n",
       "      <td>02:08:30.880597</td>\n",
       "      <td>58.5</td>\n",
       "      <td>8.5</td>\n",
       "      <td>94.14639</td>\n",
       "      <td>13.67939</td>\n",
       "      <td>128.514677</td>\n",
       "      <td>9.394767</td>\n",
       "      <td>105.416667</td>\n",
       "      <td>7.706240</td>\n",
       "    </tr>\n",
       "    <tr>\n",
       "      <th>time2end</th>\n",
       "      <td>0 days 00:57:08</td>\n",
       "      <td>01:12:04.522388</td>\n",
       "      <td>63.0</td>\n",
       "      <td>4.5</td>\n",
       "      <td>101.38842</td>\n",
       "      <td>7.24203</td>\n",
       "      <td>72.075373</td>\n",
       "      <td>9.952372</td>\n",
       "      <td>57.133333</td>\n",
       "      <td>7.889132</td>\n",
       "    </tr>\n",
       "  </tbody>\n",
       "</table>\n",
       "</div>"
      ],
      "text/plain": [
       "         Stephen Lemasney            2017  cp_miles  cp_miles_s      cp_km  \\\n",
       "time2cp1  0 days 01:53:55 02:25:35.206521      12.0        12.0   19.31208   \n",
       "time2cp2  0 days 01:57:58 02:13:09.678160      23.0        11.0   37.01482   \n",
       "time2cp3  0 days 02:00:07 02:10:43.860759      33.0        10.0   53.10822   \n",
       "time2cp4  0 days 01:56:00 02:31:55.068493      44.0        11.0   70.81096   \n",
       "time2cp5  0 days 01:31:00 01:34:58.985915      50.0         6.0   80.46700   \n",
       "time2cp6  0 days 01:45:25 02:08:30.880597      58.5         8.5   94.14639   \n",
       "time2end  0 days 00:57:08 01:12:04.522388      63.0         4.5  101.38842   \n",
       "\n",
       "           cp_km_s    2017_min    min_km    slm_mins  slm_min_km  \n",
       "time2cp1  19.31208  145.586775  7.538638  113.916667    5.898726  \n",
       "time2cp2  17.70274  133.161303  7.522073  117.966667    6.663752  \n",
       "time2cp3  16.09340  130.731013  8.123269  120.116667    7.463722  \n",
       "time2cp4  17.70274  151.917808  8.581599  116.000000    6.552658  \n",
       "time2cp5   9.65604   94.983099  9.836651   91.000000    9.424153  \n",
       "time2cp6  13.67939  128.514677  9.394767  105.416667    7.706240  \n",
       "time2end   7.24203   72.075373  9.952372   57.133333    7.889132  "
      ]
     },
     "execution_count": 74,
     "metadata": {},
     "output_type": "execute_result"
    }
   ],
   "source": [
    "df_slemasne[\"slm_mins\"] = [(i.total_seconds()/60) for i in df_slemasne[\"Stephen Lemasney\"]]\n",
    "df_slemasne[\"slm_min_km\"] = df_slemasne[\"slm_mins\"]/df_slemasne[\"cp_km_s\"]\n",
    "df_slemasne"
   ]
  },
  {
   "cell_type": "code",
   "execution_count": 75,
   "metadata": {
    "collapsed": false
   },
   "outputs": [
    {
     "data": {
      "text/plain": [
       "<matplotlib.axes._subplots.AxesSubplot at 0x12abdcb0>"
      ]
     },
     "execution_count": 75,
     "metadata": {},
     "output_type": "execute_result"
    },
    {
     "data": {
      "image/png": "[encoded data removed]",
      "text/plain": [
       "<matplotlib.figure.Figure at 0xf910af0>"
      ]
     },
     "metadata": {},
     "output_type": "display_data"
    }
   ],
   "source": [
    "df_slemasne.plot( y = [\"min_km\",\"slm_min_km\"], x = [\"cp_km\"], grid = True, fontsize = 12, figsize  = (8,5))\n"
   ]
  },
  {
   "cell_type": "code",
   "execution_count": 78,
   "metadata": {
    "collapsed": false
   },
   "outputs": [],
   "source": [
    "#sns.distplot(df[\"total_min\"])"
   ]
  },
  {
   "cell_type": "code",
   "execution_count": null,
   "metadata": {
    "collapsed": true
   },
   "outputs": [],
   "source": []
  },
  {
   "cell_type": "code",
   "execution_count": null,
   "metadata": {
    "collapsed": true
   },
   "outputs": [],
   "source": []
  }
 ],
 "metadata": {
  "anaconda-cloud": {},
  "kernelspec": {
   "display_name": "Python [Anaconda2]",
   "language": "python",
   "name": "Python [Anaconda2]"
  },
  "language_info": {
   "codemirror_mode": {
    "name": "ipython",
    "version": 2
   },
   "file_extension": ".py",
   "mimetype": "text/x-python",
   "name": "python",
   "nbconvert_exporter": "python",
   "pygments_lexer": "ipython2",
   "version": "2.7.14"
  }
 },
 "nbformat": 4,
 "nbformat_minor": 2
}
